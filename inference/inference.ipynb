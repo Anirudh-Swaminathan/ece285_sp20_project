{
 "cells": [
  {
   "cell_type": "code",
   "execution_count": 1,
   "metadata": {},
   "outputs": [
    {
     "name": "stdout",
     "output_type": "stream",
     "text": [
      "cuda\n",
      "cuda\n",
      "cuda\n"
     ]
    }
   ],
   "source": [
    "import sys\n",
    "sys.path.append(\"../\")\n",
    "\n",
    "import os\n",
    "os.environ['KMP_DUPLICATE_LIB_OK']='True'\n",
    "\n",
    "from torch.nn.utils.rnn import pack_padded_sequence\n",
    "import torchvision as tv\n",
    "import torch.utils.data as td\n",
    "from torch.nn import functional as F\n",
    "from torch import nn\n",
    "import torch\n",
    "\n",
    "import models.nntools_modified as nt\n",
    "import models.framework as fw\n",
    "import models.framework_varying as fwv\n",
    "import models.framework_single_varying as fwsv\n",
    "import utils.config as cfg\n",
    "from utils.datareader_toy import toyScenesdata\n",
    "\n",
    "from utils.visualization import *\n",
    "\n",
    "from PIL import Image\n",
    "import cv2\n",
    "# import imageio"
   ]
  },
  {
   "cell_type": "code",
   "execution_count": 8,
   "metadata": {},
   "outputs": [
    {
     "name": "stdout",
     "output_type": "stream",
     "text": [
      "Read in 1000 \n",
      "700\n",
      "200\n",
      "100\n",
      "Read in 1000 \n",
      "700\n",
      "200\n",
      "100\n"
     ]
    }
   ],
   "source": [
    "exp_name = \"res_gpu_vary_epochs_150_downsample_pt_2_5_data2/\"\n",
    "\n",
    "net = fwv.MultiAgentNetwork(cfg.FCN_OUT, cfg.NUM_INTENTS, cfg.SCENE_OUT,\n",
    "                                cfg.INTENT_IN, cfg.INTENT_OUT, cfg.SCORE_IN)\n",
    "\n",
    "device = 'cuda' if torch.cuda.is_available() else 'cpu'\n",
    "\n",
    "net = net.to(device)\n",
    "test_set = toyScenesdata(set_name=\"test\")\n",
    "# output_dir = \"data/res_gpu_original_downsample_epoch_75_pt_5/\" # output_dir = cfg.EXP_NAME\n",
    "output_dir = cfg.OUTPUT_PATH + exp_name\n",
    "\n",
    "optimizer = torch.optim.Adam(net.parameters(), lr=1e-3)"
   ]
  },
  {
   "cell_type": "code",
   "execution_count": 9,
   "metadata": {},
   "outputs": [],
   "source": [
    "def load_state_dict(checkpoint):\n",
    "    \"\"\"Loads the experiment from the input checkpoint.\"\"\"\n",
    "    net.load_state_dict(checkpoint['Net'])\n",
    "#     optimizer.load_state_dict(checkpoint['Optimizer'])\n",
    "    history = checkpoint['History']\n",
    "\n",
    "    # The following loops are used to fix a bug that was\n",
    "    # discussed here: https://github.com/pytorch/pytorch/issues/2830\n",
    "    # (it is supposed to be fixed in recent PyTorch version)\n",
    "    for state in optimizer.state.values():\n",
    "        for k, v in state.items():\n",
    "            if isinstance(v, torch.Tensor):\n",
    "                state[k] = v.to(net.device)\n",
    "\n",
    "def load():\n",
    "    \"\"\"Loads the experiment from the last checkpoint saved on disk.\"\"\"\n",
    "    checkpoint = torch.load(checkpoint_path,\n",
    "                            map_location=net.device)\n",
    "    load_state_dict(checkpoint)\n",
    "#     del checkpoint"
   ]
  },
  {
   "cell_type": "code",
   "execution_count": 10,
   "metadata": {},
   "outputs": [
    {
     "ename": "FileNotFoundError",
     "evalue": "[Errno 2] No such file or directory: '../outputs/res_gpu_vary_epochs_150_downsample_pt_2_5_data2/checkpoint.pth.tar'",
     "output_type": "error",
     "traceback": [
      "\u001b[0;31m---------------------------------------------------------------------------\u001b[0m",
      "\u001b[0;31mFileNotFoundError\u001b[0m                         Traceback (most recent call last)",
      "\u001b[0;32m<ipython-input-10-5e20dc6c0254>\u001b[0m in \u001b[0;36m<module>\u001b[0;34m\u001b[0m\n\u001b[1;32m     22\u001b[0m \u001b[0;31m#                 \"Cannot create this experiment: \"\u001b[0m\u001b[0;34m\u001b[0m\u001b[0;34m\u001b[0m\u001b[0;34m\u001b[0m\u001b[0m\n\u001b[1;32m     23\u001b[0m \u001b[0;31m#                 \"I found a checkpoint conflicting with the current setting.\")\u001b[0m\u001b[0;34m\u001b[0m\u001b[0;34m\u001b[0m\u001b[0;34m\u001b[0m\u001b[0m\n\u001b[0;32m---> 24\u001b[0;31m \u001b[0mload\u001b[0m\u001b[0;34m(\u001b[0m\u001b[0;34m)\u001b[0m\u001b[0;34m\u001b[0m\u001b[0;34m\u001b[0m\u001b[0m\n\u001b[0m",
      "\u001b[0;32m<ipython-input-9-ded8e42ecbf7>\u001b[0m in \u001b[0;36mload\u001b[0;34m()\u001b[0m\n\u001b[1;32m     16\u001b[0m     \u001b[0;34m\"\"\"Loads the experiment from the last checkpoint saved on disk.\"\"\"\u001b[0m\u001b[0;34m\u001b[0m\u001b[0;34m\u001b[0m\u001b[0m\n\u001b[1;32m     17\u001b[0m     checkpoint = torch.load(checkpoint_path,\n\u001b[0;32m---> 18\u001b[0;31m                             map_location=net.device)\n\u001b[0m\u001b[1;32m     19\u001b[0m     \u001b[0mload_state_dict\u001b[0m\u001b[0;34m(\u001b[0m\u001b[0mcheckpoint\u001b[0m\u001b[0;34m)\u001b[0m\u001b[0;34m\u001b[0m\u001b[0;34m\u001b[0m\u001b[0m\n\u001b[1;32m     20\u001b[0m \u001b[0;31m#     del checkpoint\u001b[0m\u001b[0;34m\u001b[0m\u001b[0;34m\u001b[0m\u001b[0;34m\u001b[0m\u001b[0m\n",
      "\u001b[0;32m/opt/conda/lib/python3.7/site-packages/torch/serialization.py\u001b[0m in \u001b[0;36mload\u001b[0;34m(f, map_location, pickle_module, **pickle_load_args)\u001b[0m\n\u001b[1;32m    417\u001b[0m             \u001b[0;34m(\u001b[0m\u001b[0msys\u001b[0m\u001b[0;34m.\u001b[0m\u001b[0mversion_info\u001b[0m\u001b[0;34m[\u001b[0m\u001b[0;36m0\u001b[0m\u001b[0;34m]\u001b[0m \u001b[0;34m==\u001b[0m \u001b[0;36m2\u001b[0m \u001b[0;32mand\u001b[0m \u001b[0misinstance\u001b[0m\u001b[0;34m(\u001b[0m\u001b[0mf\u001b[0m\u001b[0;34m,\u001b[0m \u001b[0municode\u001b[0m\u001b[0;34m)\u001b[0m\u001b[0;34m)\u001b[0m\u001b[0;34m:\u001b[0m\u001b[0;34m\u001b[0m\u001b[0;34m\u001b[0m\u001b[0m\n\u001b[1;32m    418\u001b[0m         \u001b[0mnew_fd\u001b[0m \u001b[0;34m=\u001b[0m \u001b[0;32mTrue\u001b[0m\u001b[0;34m\u001b[0m\u001b[0;34m\u001b[0m\u001b[0m\n\u001b[0;32m--> 419\u001b[0;31m         \u001b[0mf\u001b[0m \u001b[0;34m=\u001b[0m \u001b[0mopen\u001b[0m\u001b[0;34m(\u001b[0m\u001b[0mf\u001b[0m\u001b[0;34m,\u001b[0m \u001b[0;34m'rb'\u001b[0m\u001b[0;34m)\u001b[0m\u001b[0;34m\u001b[0m\u001b[0;34m\u001b[0m\u001b[0m\n\u001b[0m\u001b[1;32m    420\u001b[0m     \u001b[0;32melif\u001b[0m \u001b[0;34m(\u001b[0m\u001b[0msys\u001b[0m\u001b[0;34m.\u001b[0m\u001b[0mversion_info\u001b[0m\u001b[0;34m[\u001b[0m\u001b[0;36m0\u001b[0m\u001b[0;34m]\u001b[0m \u001b[0;34m==\u001b[0m \u001b[0;36m3\u001b[0m \u001b[0;32mand\u001b[0m \u001b[0misinstance\u001b[0m\u001b[0;34m(\u001b[0m\u001b[0mf\u001b[0m\u001b[0;34m,\u001b[0m \u001b[0mpathlib\u001b[0m\u001b[0;34m.\u001b[0m\u001b[0mPath\u001b[0m\u001b[0;34m)\u001b[0m\u001b[0;34m)\u001b[0m\u001b[0;34m:\u001b[0m\u001b[0;34m\u001b[0m\u001b[0;34m\u001b[0m\u001b[0m\n\u001b[1;32m    421\u001b[0m         \u001b[0mnew_fd\u001b[0m \u001b[0;34m=\u001b[0m \u001b[0;32mTrue\u001b[0m\u001b[0;34m\u001b[0m\u001b[0;34m\u001b[0m\u001b[0m\n",
      "\u001b[0;31mFileNotFoundError\u001b[0m: [Errno 2] No such file or directory: '../outputs/res_gpu_vary_epochs_150_downsample_pt_2_5_data2/checkpoint.pth.tar'"
     ]
    }
   ],
   "source": [
    "# Initialize history\n",
    "history = []\n",
    "\n",
    "# Define checkpoint paths\n",
    "# if output_dir is None:\n",
    "#     output_dir = 'experiment_{}'.format(time.time())\n",
    "# os.makedirs(output_dir, exist_ok=True)\n",
    "checkpoint_path = os.path.join(output_dir, \"checkpoint.pth.tar\")\n",
    "config_path = os.path.join(output_dir, \"config.txt\")\n",
    "\n",
    "# Load checkpoint and check compatibility\n",
    "# if os.path.isfile(config_path):\n",
    "#     with open(config_path, 'r') as f:\n",
    "#         if f.read()[:-1] != repr(self):\n",
    "#             raise ValueError(\n",
    "#                 \"Cannot create this experiment: \"\n",
    "#                 \"I found a checkpoint conflicting with the current setting.\")\n",
    "load()"
   ]
  },
  {
   "cell_type": "code",
   "execution_count": null,
   "metadata": {},
   "outputs": [],
   "source": [
    "# ls - the entire groundtruth trajectory of the agent\n",
    "# vs - the entire groundtruth velocities of the agent\n",
    "\n",
    "# ls, vs -> required for plotting the actual trajectories\n",
    "# vs additionally required for the initial velocity value\n",
    "# s_points -> refers to the actual data that is used in init.npy file.\n",
    "# these are the starting conditions set initially for the image\n",
    "\n",
    "def getCollided(index, num_agents=2):\n",
    "    data_path = cfg.DATA_PATH + f\"{num_agents}/\" + str(index) + \"/\"\n",
    "    base_path = cfg.ACTUAL_PATH + f\"/{num_agents}/\" + str(index) + \"/\"\n",
    "    \n",
    "    s_points = np.load(base_path + \"init.npy\", allow_pickle=True)\n",
    "    vs = np.load(base_path + \"vs.npy\")\n",
    "    ls = np.load(base_path + \"ls.npy\")\n",
    "    # im = imageio.imread(\"../data/toydataset/2/2716/scene.png\")\n",
    "#     im = np.array(cv2.imread(base_path + \"scene.png\"))\n",
    "    \n",
    "    # sample_img = imageio.imread(\"../data/toydataset_resampled/2/2716/scene.png\")\n",
    "    sample_img = np.array(cv2.imread(data_path + \"scene.png\"))\n",
    "    sample_ls = np.load(data_path + \"ls.npy\")\n",
    "    sample_gt = np.array(list(np.array(np.load(data_path + \"init.npy\", allow_pickle=True))))\n",
    "#     print(sample_img.shape, sample_ls.shape, sample_gt.shape)\n",
    "\n",
    "    sample_img = torch.from_numpy(sample_img)\n",
    "    sample_img = sample_img.view(1, *sample_img.size())\n",
    "#     print(sample_img.shape)\n",
    "    sample_ls = torch.from_numpy(sample_ls)\n",
    "    sample_ls = sample_ls.view(1, *sample_ls.size())\n",
    "#     print(sample_ls.shape)\n",
    "    sample_gt = torch.from_numpy(sample_gt)\n",
    "    sample_gt = sample_gt.view(1, *sample_gt.size())\n",
    "#     print(sample_gt.shape)\n",
    "    sample_img = sample_img.to(net.device)\n",
    "    sample_ls = sample_ls.to(net.device)\n",
    "    sample_gt = sample_gt.to(net.device)\n",
    "    \n",
    "    #Get Output\n",
    "    y, _ = net(sample_img, sample_ls, sample_gt)\n",
    "    \n",
    "    #Run output through a softmax layer\n",
    "    s = nn.Softmax(dim=1)\n",
    "    sout = s(y)\n",
    "    \n",
    "    n_modes = y.shape[1]\n",
    "    nm = n_modes\n",
    "    \n",
    "    overall_ind = torch.argmax(sout, dim=1)\n",
    "    ints = list()\n",
    "    oin = overall_ind[0]\n",
    "    for k in range(n_agents):\n",
    "        oin = oin//4**k\n",
    "        ints.append((oin%4).item())\n",
    "        \n",
    "    _, _, c = visualize(np.array(ints), s_points, ls, vs)\n",
    "    return c"
   ]
  },
  {
   "cell_type": "code",
   "execution_count": null,
   "metadata": {},
   "outputs": [],
   "source": [
    "num_agents = [2,3,4]\n",
    "totalElements = 0\n",
    "totalCollisions = 0\n",
    "\n",
    "\n",
    "for agent in num_agents:\n",
    "    subsetCollisions = 0\n",
    "    \n",
    "    test_dataset = toyScenesdata(set_name=\"test\", agents=agent)\n",
    "    totalElements += len(test_dataset)\n",
    "    \n",
    "    scenes = test_dataset.test_scenes\n",
    "    datasetElements = len(test_dataset)\n",
    "    for idx in scenes:\n",
    "        didCollide = getCollided(agent, idx)\n",
    "        if didCollide:\n",
    "            subsetCollisions += 1\n",
    "    totalCollisions += subsetCollisions\n",
    "    print(\"Collision Percentage for {} agents is {}%\".format(agent, subsetCollisions / datasetElements * 100.0))\n",
    "    print(\"Total number of collisions for {} agents is {}/{}\".format(agent, subsetCollisions, datasetElements))\n",
    "    \n",
    "print(\"Average Collision Percentage for all agents is {}%\".format(totalCollisions / totalElements * 100.0))\n",
    "print(\"Total number of collisions for all agents is {}/{}\".format(totalCollisions, totalElements))\n",
    "    "
   ]
  }
 ],
 "metadata": {
  "kernelspec": {
   "display_name": "Python 3",
   "language": "python",
   "name": "python3"
  },
  "language_info": {
   "codemirror_mode": {
    "name": "ipython",
    "version": 3
   },
   "file_extension": ".py",
   "mimetype": "text/x-python",
   "name": "python",
   "nbconvert_exporter": "python",
   "pygments_lexer": "ipython3",
   "version": "3.7.3"
  }
 },
 "nbformat": 4,
 "nbformat_minor": 2
}
