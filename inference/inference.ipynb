{
 "cells": [
  {
   "cell_type": "code",
   "execution_count": 1,
   "metadata": {},
   "outputs": [
    {
     "name": "stdout",
     "output_type": "stream",
     "text": [
      "cuda\n",
      "cuda\n",
      "cuda\n"
     ]
    }
   ],
   "source": [
    "import sys\n",
    "sys.path.append(\"../\")\n",
    "\n",
    "import os\n",
    "os.environ['KMP_DUPLICATE_LIB_OK']='True'\n",
    "\n",
    "from torch.nn.utils.rnn import pack_padded_sequence\n",
    "import torchvision as tv\n",
    "import torch.utils.data as td\n",
    "from torch.nn import functional as F\n",
    "from torch import nn\n",
    "import torch\n",
    "\n",
    "import models.nntools_modified as nt\n",
    "import models.framework as fw\n",
    "import models.framework_varying as fwv\n",
    "import models.framework_single_varying as fwsv\n",
    "import utils.config as cfg\n",
    "from utils.datareader_toy import toyScenesdata\n",
    "\n",
    "from utils.visualization import *\n",
    "\n",
    "from PIL import Image\n",
    "import cv2\n",
    "# import imageio"
   ]
  },
  {
   "cell_type": "code",
   "execution_count": 2,
   "metadata": {},
   "outputs": [
    {
     "name": "stdout",
     "output_type": "stream",
     "text": [
      "Read in 1000 \n",
      "700\n",
      "200\n",
      "100\n",
      "Read in 1000 \n",
      "700\n",
      "200\n",
      "100\n"
     ]
    }
   ],
   "source": [
    "net = fwv.MultiAgentNetwork(cfg.FCN_OUT, cfg.NUM_INTENTS, cfg.SCENE_OUT,\n",
    "                                cfg.INTENT_IN, cfg.INTENT_OUT, cfg.SCORE_IN)\n",
    "\n",
    "dataset = toyScenesdata(set_name=\"test\", traj_time=cfg.PAST_TRAJECTORY_TIME)\n",
    "device = 'cuda' if torch.cuda.is_available() else 'cpu'\n",
    "\n",
    "net = net.to(device)\n",
    "test_set = toyScenesdata(set_name=\"test\")\n",
    "# output_dir = \"data/res_gpu_original_downsample_epoch_75_pt_5/\" # output_dir = cfg.EXP_NAME\n",
    "output_dir = cfg.OUTPUT_PATH + cfg.EXP_NAME\n",
    "\n",
    "optimizer = torch.optim.Adam(net.parameters(), lr=1e-3)"
   ]
  },
  {
   "cell_type": "code",
   "execution_count": 3,
   "metadata": {},
   "outputs": [],
   "source": [
    "def load_state_dict(checkpoint):\n",
    "    \"\"\"Loads the experiment from the input checkpoint.\"\"\"\n",
    "    net.load_state_dict(checkpoint['Net'])\n",
    "#     optimizer.load_state_dict(checkpoint['Optimizer'])\n",
    "    history = checkpoint['History']\n",
    "\n",
    "    # The following loops are used to fix a bug that was\n",
    "    # discussed here: https://github.com/pytorch/pytorch/issues/2830\n",
    "    # (it is supposed to be fixed in recent PyTorch version)\n",
    "    for state in optimizer.state.values():\n",
    "        for k, v in state.items():\n",
    "            if isinstance(v, torch.Tensor):\n",
    "                state[k] = v.to(net.device)\n",
    "\n",
    "def load():\n",
    "    \"\"\"Loads the experiment from the last checkpoint saved on disk.\"\"\"\n",
    "    checkpoint = torch.load(checkpoint_path,\n",
    "                            map_location=net.device)\n",
    "    load_state_dict(checkpoint)\n",
    "#     del checkpoint"
   ]
  },
  {
   "cell_type": "code",
   "execution_count": 4,
   "metadata": {},
   "outputs": [],
   "source": [
    "# test_loader = td.DataLoader(test_set, batch_size=cfg.BATCH_SIZE, shuffle=cfg.SHUFFLE, drop_last=cfg.DROP_LAST, pin_memory=True)\n",
    "\n",
    "# Initialize history\n",
    "history = []\n",
    "\n",
    "# Define checkpoint paths\n",
    "# if output_dir is None:\n",
    "#     output_dir = 'experiment_{}'.format(time.time())\n",
    "# os.makedirs(output_dir, exist_ok=True)\n",
    "checkpoint_path = os.path.join(output_dir, \"checkpoint.pth.tar\")\n",
    "config_path = os.path.join(output_dir, \"config.txt\")\n",
    "\n",
    "# Transfer all local arguments/variables into attributes\n",
    "# locs = {k: v for k, v in locals().items() if k is not 'self'}\n",
    "# self.__dict__.update(locs)\n",
    "\n",
    "# Load checkpoint and check compatibility\n",
    "# if os.path.isfile(config_path):\n",
    "#     with open(config_path, 'r') as f:\n",
    "#         if f.read()[:-1] != repr(self):\n",
    "#             raise ValueError(\n",
    "#                 \"Cannot create this experiment: \"\n",
    "#                 \"I found a checkpoint conflicting with the current setting.\")\n",
    "load()"
   ]
  },
  {
   "cell_type": "code",
   "execution_count": 5,
   "metadata": {},
   "outputs": [
    {
     "name": "stdout",
     "output_type": "stream",
     "text": [
      "(480, 640, 3)\n",
      "Displaying input to the network\n"
     ]
    },
    {
     "data": {
      "image/png": "[encoded data removed]",
      "text/plain": [
       "<Figure size 432x288 with 1 Axes>"
      ]
     },
     "metadata": {
      "needs_background": "light"
     },
     "output_type": "display_data"
    }
   ],
   "source": [
    "# TODO - replace these with the inputs used for the network\n",
    "# ls - the entire groundtruth trajectory of the agent\n",
    "# vs - the entire groundtruth velocities of the agent\n",
    "\n",
    "# ls, vs -> required for plotting the actual trajectories\n",
    "# vs additionally required for the initial velocity value\n",
    "# s_points -> refers to the actual data that is used in init.npy file.\n",
    "# these are the starting conditions set initially for the image\n",
    "datapoint = \"3/150/\"\n",
    "data_path = cfg.DATA_PATH + datapoint\n",
    "# print(data_path)\n",
    "base_path = cfg.ACTUAL_PATH + \"/\" + datapoint\n",
    "# print(base_path)\n",
    "s_points = np.load(base_path + \"init.npy\", allow_pickle=True)\n",
    "vs = np.load(base_path + \"vs.npy\")\n",
    "ls = np.load(base_path + \"ls.npy\")\n",
    "# im = imageio.imread(\"../data/toydataset/2/2716/scene.png\")\n",
    "im = np.array(cv2.imread(base_path + \"scene.png\"))\n",
    "print(im.shape)\n",
    "\n",
    "print(\"Displaying input to the network\")\n",
    "fig = plt.figure()\n",
    "plt.imshow(im)\n",
    "# plt.savefig(\"test_input.png\")\n",
    "plt.show()"
   ]
  },
  {
   "cell_type": "code",
   "execution_count": 6,
   "metadata": {},
   "outputs": [
    {
     "name": "stdout",
     "output_type": "stream",
     "text": [
      "(100, 100, 3) (3, 24) (3,)\n"
     ]
    }
   ],
   "source": [
    "# sample_img = imageio.imread(\"../data/toydataset_resampled/2/2716/scene.png\")\n",
    "sample_img = np.array(cv2.imread(data_path + \"scene.png\"))\n",
    "sample_ls = np.load(data_path + \"ls.npy\")\n",
    "sample_gt = np.array(list(np.array(np.load(data_path + \"init.npy\", allow_pickle=True))))\n",
    "print(sample_img.shape, sample_ls.shape, sample_gt.shape)"
   ]
  },
  {
   "cell_type": "code",
   "execution_count": 7,
   "metadata": {},
   "outputs": [
    {
     "name": "stdout",
     "output_type": "stream",
     "text": [
      "torch.Size([1, 100, 100, 3])\n",
      "torch.Size([1, 3, 24])\n",
      "torch.Size([1, 3])\n"
     ]
    }
   ],
   "source": [
    "sample_img = torch.from_numpy(sample_img)\n",
    "sample_img = sample_img.view(1, *sample_img.size())\n",
    "print(sample_img.shape)\n",
    "sample_ls = torch.from_numpy(sample_ls)\n",
    "sample_ls = sample_ls.view(1, *sample_ls.size())\n",
    "print(sample_ls.shape)\n",
    "sample_gt = torch.from_numpy(sample_gt)\n",
    "sample_gt = sample_gt.view(1, *sample_gt.size())\n",
    "print(sample_gt.shape)\n",
    "sample_img = sample_img.to(net.device)\n",
    "sample_ls = sample_ls.to(net.device)\n",
    "sample_gt = sample_gt.to(net.device)"
   ]
  },
  {
   "cell_type": "code",
   "execution_count": 8,
   "metadata": {},
   "outputs": [
    {
     "name": "stdout",
     "output_type": "stream",
     "text": [
      "tensor([[69.2387, 69.4445, 67.2534, 71.2348, 69.4100, 69.6159, 67.4441, 71.4062,\n",
      "         67.7194, 67.9442, 65.7177, 69.8012, 71.6525, 71.8598, 69.8158, 73.6499,\n",
      "         69.7544, 69.9603, 67.8283, 71.7513, 69.9257, 70.1316, 68.0181, 71.9232,\n",
      "         68.2923, 68.5134, 66.2705, 70.3169, 72.1717, 72.3790, 70.3315, 74.1594,\n",
      "         70.2897, 70.4956, 68.4227, 72.2895, 70.4611, 70.6669, 68.6078, 72.4617,\n",
      "         68.8561, 69.0620, 66.8229, 70.8522, 72.7103, 72.9175, 70.8668, 74.6788,\n",
      "         70.4695, 70.6754, 68.5900, 72.4708, 70.6409, 70.8467, 68.7751, 72.6404,\n",
      "         69.0356, 69.2418, 67.0331, 71.0320, 72.8913, 73.0951, 71.0465, 74.8658]],\n",
      "       device='cuda:0', grad_fn=<CopyBackwards>)\n",
      "tensor(45, device='cuda:0')\n"
     ]
    },
    {
     "name": "stderr",
     "output_type": "stream",
     "text": [
      "../models/framework_varying.py:181: UserWarning: Implicit dimension choice for log_softmax has been deprecated. Change the call to include dim=X as an argument.\n",
      "  return F.log_softmax(x)\n"
     ]
    }
   ],
   "source": [
    "y, d = net(sample_img, sample_ls, sample_gt)\n",
    "print(y)\n",
    "print(d)\n",
    "\n",
    "s = nn.Softmax(dim=1)\n",
    "sout = s(y)"
   ]
  },
  {
   "cell_type": "code",
   "execution_count": 9,
   "metadata": {},
   "outputs": [
    {
     "name": "stdout",
     "output_type": "stream",
     "text": [
      "tensor(63, device='cuda:0')\n",
      "tensor(15, device='cuda:0')\n",
      "tensor(0, device='cuda:0')\n",
      "[array([3, 3, 0])]\n",
      "1\n"
     ]
    }
   ],
   "source": [
    "predicted_intents = list()\n",
    "n_modes = y.shape[1]\n",
    "n_agents = 0\n",
    "nm = n_modes\n",
    "while nm != 1:\n",
    "    n_agents += 1\n",
    "    nm = nm // 4\n",
    "overall_ind = torch.argmax(sout, dim=1)\n",
    "n_samples = overall_ind.shape[0]\n",
    "for i in range(n_samples):\n",
    "    ints = list()\n",
    "    oin = overall_ind[i]\n",
    "#     print(oin)\n",
    "    for k in range(n_agents):\n",
    "        oin = oin//4**k\n",
    "        ints.append((oin%4).item())\n",
    "        print(oin)\n",
    "#         print(\"===========\")\n",
    "#         print(ints)\n",
    "    predicted_intents.append(np.array(ints))\n",
    "print(predicted_intents)\n",
    "print(len(predicted_intents))"
   ]
  },
  {
   "cell_type": "code",
   "execution_count": 10,
   "metadata": {},
   "outputs": [
    {
     "name": "stdout",
     "output_type": "stream",
     "text": [
      "[3 3 0]\n",
      "1\n",
      "3\n",
      "Displaying Groundtruth complete trajectory\n",
      "Displaying Predicted complete trajectory\n",
      "Successful new trajectory was generated\n"
     ]
    },
    {
     "data": {
      "image/png": "[encoded data removed]",
      "text/plain": [
       "<Figure size 432x288 with 1 Axes>"
      ]
     },
     "metadata": {
      "needs_background": "light"
     },
     "output_type": "display_data"
    },
    {
     "data": {
      "image/png": "[encoded data removed]",
      "text/plain": [
       "<Figure size 432x288 with 1 Axes>"
      ]
     },
     "metadata": {
      "needs_background": "light"
     },
     "output_type": "display_data"
    }
   ],
   "source": [
    "for new_intents in predicted_intents:\n",
    "    print(new_intents)\n",
    "    f, f_new, c = visualize(new_intents, s_points, ls, vs)\n",
    "    # f.savefig(\"test_old.png\")\n",
    "    # f_new.savefig(\"test_new.png\")\n",
    "    print(\"Displaying Groundtruth complete trajectory\")\n",
    "    f.show()\n",
    "    print(\"Displaying Predicted complete trajectory\")\n",
    "    f_new.show()\n",
    "    if c:\n",
    "        print(\"Collision occurred for new intents\")\n",
    "    else:\n",
    "        print(\"Successful new trajectory was generated\")"
   ]
  },
  {
   "cell_type": "code",
   "execution_count": null,
   "metadata": {},
   "outputs": [],
   "source": []
  }
 ],
 "metadata": {
  "kernelspec": {
   "display_name": "Python 3",
   "language": "python",
   "name": "python3"
  },
  "language_info": {
   "codemirror_mode": {
    "name": "ipython",
    "version": 3
   },
   "file_extension": ".py",
   "mimetype": "text/x-python",
   "name": "python",
   "nbconvert_exporter": "python",
   "pygments_lexer": "ipython3",
   "version": "3.7.3"
  }
 },
 "nbformat": 4,
 "nbformat_minor": 2
}
